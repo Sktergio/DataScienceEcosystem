{
 "cells": [
  {
   "cell_type": "markdown",
   "id": "f7eaa95a-a096-4c0b-bf24-d6b949dfe546",
   "metadata": {},
   "source": [
    "**Objectives:**\n",
    "\n",
    "- List popular languages for Data Science\n",
    "- List commonly used libraries in Data Science\n",
    "- Create data visualizations using ggplot2"
   ]
  },
  {
   "cell_type": "code",
   "execution_count": null,
   "id": "919ac9fa-078a-41fe-9cb9-c13d33ab8b85",
   "metadata": {},
   "outputs": [],
   "source": []
  }
 ],
 "metadata": {
  "kernelspec": {
   "display_name": "Python",
   "language": "python",
   "name": "conda-env-python-py"
  },
  "language_info": {
   "codemirror_mode": {
    "name": "ipython",
    "version": 3
   },
   "file_extension": ".py",
   "mimetype": "text/x-python",
   "name": "python",
   "nbconvert_exporter": "python",
   "pygments_lexer": "ipython3",
   "version": "3.7.12"
  }
 },
 "nbformat": 4,
 "nbformat_minor": 5
}
