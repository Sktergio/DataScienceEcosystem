{
 "cells": [
  {
   "cell_type": "markdown",
   "id": "3f6d3aa8-dffb-466b-9102-d29064e8bdb6",
   "metadata": {},
   "source": [
    "## Author\n",
    "\n",
    "Sergio M"
   ]
  },
  {
   "cell_type": "code",
   "execution_count": null,
   "id": "14feaae4-40e9-4d53-ba69-23973f3e5477",
   "metadata": {},
   "outputs": [],
   "source": []
  }
 ],
 "metadata": {
  "kernelspec": {
   "display_name": "Python",
   "language": "python",
   "name": "conda-env-python-py"
  },
  "language_info": {
   "codemirror_mode": {
    "name": "ipython",
    "version": 3
   },
   "file_extension": ".py",
   "mimetype": "text/x-python",
   "name": "python",
   "nbconvert_exporter": "python",
   "pygments_lexer": "ipython3",
   "version": "3.7.12"
  }
 },
 "nbformat": 4,
 "nbformat_minor": 5
}
